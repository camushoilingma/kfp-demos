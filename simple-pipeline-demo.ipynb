{
 "cells": [
  {
   "cell_type": "code",
   "execution_count": 1,
   "metadata": {},
   "outputs": [],
   "source": [
    "%%capture\n",
    "\n",
    "# Install the SDK (Uncomment the code if the SDK is not installed before)\n",
    "!python3 -m pip install 'kfp' --quiet\n",
    "!python3 -m pip install pandas --upgrade -q"
   ]
  },
  {
   "cell_type": "code",
   "execution_count": null,
   "metadata": {},
   "outputs": [],
   "source": [
    "!pip3 install kfp --upgrade --user"
   ]
  },
  {
   "cell_type": "code",
   "execution_count": 12,
   "metadata": {},
   "outputs": [],
   "source": [
    "PROJECT_ID = ''\n",
    "IMAGE_NAME = ''"
   ]
  },
  {
   "cell_type": "code",
   "execution_count": null,
   "metadata": {},
   "outputs": [],
   "source": [
    "!docker build . -t gcr.io/$PROJECT_ID/$IMAGE_NAME:latest"
   ]
  },
  {
   "cell_type": "code",
   "execution_count": null,
   "metadata": {},
   "outputs": [],
   "source": [
    "!docker push gcr.io/$PROJECT_ID/$IMAGE_NAME:latest"
   ]
  },
  {
   "cell_type": "code",
   "execution_count": 32,
   "metadata": {},
   "outputs": [],
   "source": [
    "FULL_IMAGE_NAME = ''"
   ]
  },
  {
   "cell_type": "code",
   "execution_count": 33,
   "metadata": {},
   "outputs": [
    {
     "name": "stdout",
     "output_type": "stream",
     "text": [
      "env: FULL_IMAGE_NAME=gcr.io/camus-mlops/census-keras@sha256:6a088a18f22b244bcf753c8f7327d489ed4b844e0a19694b8afc649f8c78d1b3\n"
     ]
    }
   ],
   "source": [
    "%env FULL_IMAGE_NAME={FULL_IMAGE_NAME}"
   ]
  },
  {
   "cell_type": "code",
   "execution_count": 35,
   "metadata": {},
   "outputs": [
    {
     "name": "stdout",
     "output_type": "stream",
     "text": [
      "Overwriting ./pipeline/census_training_pipeline.py\n"
     ]
    }
   ],
   "source": [
    "%%writefile ./pipeline/census_training_pipeline.py\n",
    "\n",
    "\"\"\"Simple KFP with one component.\"\"\"\n",
    "\n",
    "import os\n",
    "\n",
    "import kfp\n",
    "from kfp import dsl\n",
    "from kfp.components import func_to_container_op\n",
    "from kfp.dsl.types import Dict\n",
    "from kfp.dsl.types import GCPProjectID\n",
    "from kfp.dsl.types import GCPRegion\n",
    "from kfp.dsl.types import GCSPath\n",
    "from kfp.dsl.types import String\n",
    "from kfp.gcp import use_gcp_secret\n",
    "\n",
    "FULL_IMAGE_NAME = os.getenv('FULL_IMAGE_NAME')\n",
    "\n",
    "# Create Training Component\n",
    "\n",
    "def census_train_op():\n",
    "    return dsl.ContainerOp(\n",
    "        name='Census Training Component',\n",
    "        image=FULL_IMAGE_NAME)\n",
    "\n",
    "@kfp.dsl.pipeline(\n",
    "    name='Census Keras Training',\n",
    "    description='The pipeline training a census model.'\n",
    ")\n",
    "def census_train(project_id, region):\n",
    "    \"\"\"Orchestrates training and deployment of a keras model.\"\"\"\n",
    "    census_train_op()"
   ]
  },
  {
   "cell_type": "code",
   "execution_count": 36,
   "metadata": {},
   "outputs": [],
   "source": [
    "!dsl-compile --py pipeline/census_training_pipeline.py --output census_pipeline.yaml"
   ]
  }
 ],
 "metadata": {
  "kernelspec": {
   "display_name": "Python 3",
   "language": "python",
   "name": "python3"
  },
  "language_info": {
   "codemirror_mode": {
    "name": "ipython",
    "version": 3
   },
   "file_extension": ".py",
   "mimetype": "text/x-python",
   "name": "python",
   "nbconvert_exporter": "python",
   "pygments_lexer": "ipython3",
   "version": "3.7.6"
  }
 },
 "nbformat": 4,
 "nbformat_minor": 4
}
